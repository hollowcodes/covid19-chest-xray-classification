{
 "cells": [
  {
   "cell_type": "code",
   "execution_count": 2,
   "metadata": {},
   "outputs": [],
   "source": [
    "import matplotlib.pyplot as plt\n",
    "import numpy as np"
   ]
  },
  {
   "cell_type": "markdown",
   "metadata": {},
   "source": [
    "# Due to the small dataset (145 samples per class), the test results can not be considered accurate!\n",
    "\n",
    "\n",
    "# | dataset:\n",
    "\n",
    "### The dataset is assembled of [this](https://github.com/ieee8023/covid-chestxray-dataset) dataset for covid images (PA xray type only) and [this](https://github.com/ieee8023/covid-chestxray-dataset) dataset for healthy and other-type pneumonia images\n",
    "\n",
    "\n",
    "# | model:\n",
    "\n",
    "### architecture:\n",
    "\n",
    "### input images: (1, 512, 512),  output: (4, 1)\n",
    "![architecture](plots/architecture.png)\n",
    "\n",
    "\n",
    "# | training:\n",
    "\n",
    "#### - epochs: 12\n",
    "#### - batch-size: 16 (limited amount because of image size and GPU resources)\n",
    "#### - learning-rate: 0.0001\n",
    "#### - dropout (dense-layers): 40%\n",
    "\n",
    "## trainings-progress:\n",
    "![training](plots/training_2.png)"
   ]
  },
  {
   "cell_type": "markdown",
   "metadata": {},
   "source": []
  },
  {
   "cell_type": "code",
   "execution_count": null,
   "metadata": {},
   "outputs": [],
   "source": []
  },
  {
   "cell_type": "code",
   "execution_count": null,
   "metadata": {},
   "outputs": [],
   "source": []
  }
 ],
 "metadata": {
  "kernelspec": {
   "display_name": "Python 3",
   "language": "python",
   "name": "python3"
  },
  "language_info": {
   "codemirror_mode": {
    "name": "ipython",
    "version": 3
   },
   "file_extension": ".py",
   "mimetype": "text/x-python",
   "name": "python",
   "nbconvert_exporter": "python",
   "pygments_lexer": "ipython3",
   "version": "3.7.4"
  }
 },
 "nbformat": 4,
 "nbformat_minor": 2
}
